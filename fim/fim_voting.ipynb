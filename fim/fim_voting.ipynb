{
  "cells": [
    {
      "cell_type": "markdown",
      "metadata": {
        "id": "Mql0zsS43uOZ"
      },
      "source": [
        "# Congressional Voting Records - frequent itemset mining"
      ]
    },
    {
      "cell_type": "markdown",
      "metadata": {
        "id": "EVFWV2tSGhZr"
      },
      "source": [
        "Use of external resources:\n",
        "\n",
        "\n",
        "* [Pandas documentation](https://pandas.pydata.org/docs/index.html)\n",
        "* [NumPy documentation](https://numpy.org/doc/)\n",
        "* [Matplotlib documentation](https://matplotlib.org/stable/index.html)\n"
      ]
    },
    {
      "cell_type": "markdown",
      "metadata": {
        "id": "KQcAGnraG2PL"
      },
      "source": [
        "Collaboration:\n",
        "\n",
        "*   No collaboration\n",
        "\n"
      ]
    },
    {
      "cell_type": "markdown",
      "metadata": {
        "id": "9SlfOYGa4C2B"
      },
      "source": [
        "Required libraries:"
      ]
    },
    {
      "cell_type": "code",
      "execution_count": 2,
      "metadata": {
        "id": "bi95FyLC4BRS"
      },
      "outputs": [],
      "source": [
        "# standard / 3rd party\n",
        "%matplotlib inline\n",
        "import numpy as np\n",
        "import pandas as pd\n",
        "import matplotlib.pyplot as plt\n",
        "from numpy.typing import NDArray\n",
        "\n",
        "# local\n",
        "from pyfim import *"
      ]
    },
    {
      "cell_type": "markdown",
      "metadata": {
        "id": "Zp5wLLBf30R1"
      },
      "source": [
        "## Data presentation"
      ]
    },
    {
      "cell_type": "markdown",
      "metadata": {
        "id": "gWhuwrbs6NeY"
      },
      "source": [
        "**Brief description**"
      ]
    },
    {
      "cell_type": "markdown",
      "metadata": {
        "id": "lUptCzmP6T2c"
      },
      "source": [
        "The dataset (URL of the dataset [here](https://archive.ics.uci.edu/dataset/105/congressional+voting+records)) contains information about voting results of each U.S. Congressman on the following 16 matters (together with the information whether the particular Congressman is a republican or democrat):\n",
        "\n",
        "Name | Data Type | Values |\n",
        "---- | -----| ----------- |\n",
        "handicapped-infants | Categorical | (y - yes, n - no, ? - neither one)\n",
        "water-project-cost-sharing | Categorical | (y - yes, n - no, ? - neither one)\n",
        "adoption-of-the-budget-resolution | Categorical | (y - yes, n - no, ? - neither one)\n",
        "physician-fee-freeze | Categorical | (y - yes, n - no, ? - neither one)\n",
        "el-salvador-aid | Categorical | (y - yes, n - no, ? - neither one)\n",
        "religious-groups-in-schools | Categorical | (y - yes, n - no, ? - neither one)\n",
        "anti-satellite-test-ban | Categorical | (y - yes, n - no, ? - neither one)\n",
        "aid-to-nicaraguan-contras | Categorical | (y - yes, n - no, ? - neither one)\n",
        "mx-missile | Categorical | (y - yes, n - no, ? - neither one)\n",
        "immigration | Categorical | (y - yes, n - no, ? - neither one)\n",
        "synfuels-corporation-cutback | Categorical | (y - yes, n - no, ? - neither one)\n",
        "education-spending | Categorical | (y - yes, n - no, ? - neither one)\n",
        "superfund-right-to-sue | Categorical | (y - yes, n - no, ? - neither one)\n",
        "crime | Categorical | (y - yes, n - no, ? - neither one)\n",
        "duty-free-exports | Categorical | (y - yes, n - no, ? - neither one)\n",
        "export-administration-act-south-africa | Categorical | (y - yes, n - no, ? - neither one)\n",
        "class | Categorical | (democrat, republican)\n"
      ]
    },
    {
      "cell_type": "markdown",
      "metadata": {
        "id": "zxiaYG7QHDn3"
      },
      "source": [
        "Notice that the dataset contains purely categorical data."
      ]
    },
    {
      "cell_type": "markdown",
      "metadata": {
        "id": "GxbKwym78imT"
      },
      "source": [
        "**Dataset presentation**"
      ]
    },
    {
      "cell_type": "markdown",
      "metadata": {
        "id": "Ffkjk1Z545_v"
      },
      "source": [
        "First, we load the data (from a local file)"
      ]
    },
    {
      "cell_type": "code",
      "execution_count": 3,
      "metadata": {
        "colab": {
          "base_uri": "https://localhost:8080/",
          "height": 278
        },
        "id": "gT5KizL5zydH",
        "outputId": "05674f35-17cf-492e-de6d-76124b8515dc"
      },
      "outputs": [
        {
          "output_type": "execute_result",
          "data": {
            "text/plain": [
              "        class handicapped-infants water-project-cost-sharing  \\\n",
              "0  republican                   n                          y   \n",
              "1  republican                   n                          y   \n",
              "2    democrat                   ?                          y   \n",
              "3    democrat                   n                          y   \n",
              "4    democrat                   y                          y   \n",
              "\n",
              "  adoption-of-the-budget-resolution physician-fee-freeze el-salvador-aid  \\\n",
              "0                                 n                    y               y   \n",
              "1                                 n                    y               y   \n",
              "2                                 y                    ?               y   \n",
              "3                                 y                    n               ?   \n",
              "4                                 y                    n               y   \n",
              "\n",
              "  religious-groups-in-schools anti-satellite-test-ban  \\\n",
              "0                           y                       n   \n",
              "1                           y                       n   \n",
              "2                           y                       n   \n",
              "3                           y                       n   \n",
              "4                           y                       n   \n",
              "\n",
              "  aid-to-nicaraguan-contras mx-missile immigration  \\\n",
              "0                         n          n           y   \n",
              "1                         n          n           n   \n",
              "2                         n          n           n   \n",
              "3                         n          n           n   \n",
              "4                         n          n           n   \n",
              "\n",
              "  synfuels-corporation-cutback education-spending superfund-right-to-sue  \\\n",
              "0                            ?                  y                      y   \n",
              "1                            n                  y                      y   \n",
              "2                            y                  n                      y   \n",
              "3                            y                  n                      y   \n",
              "4                            y                  ?                      y   \n",
              "\n",
              "  crime duty-free-exports export-administration-act-south-africa  \n",
              "0     y                 n                                      y  \n",
              "1     y                 n                                      ?  \n",
              "2     y                 n                                      n  \n",
              "3     n                 n                                      y  \n",
              "4     y                 y                                      y  "
            ],
            "text/html": [
              "\n",
              "  <div id=\"df-90347c81-9705-4300-a3b5-8d550253edd5\" class=\"colab-df-container\">\n",
              "    <div>\n",
              "<style scoped>\n",
              "    .dataframe tbody tr th:only-of-type {\n",
              "        vertical-align: middle;\n",
              "    }\n",
              "\n",
              "    .dataframe tbody tr th {\n",
              "        vertical-align: top;\n",
              "    }\n",
              "\n",
              "    .dataframe thead th {\n",
              "        text-align: right;\n",
              "    }\n",
              "</style>\n",
              "<table border=\"1\" class=\"dataframe\">\n",
              "  <thead>\n",
              "    <tr style=\"text-align: right;\">\n",
              "      <th></th>\n",
              "      <th>class</th>\n",
              "      <th>handicapped-infants</th>\n",
              "      <th>water-project-cost-sharing</th>\n",
              "      <th>adoption-of-the-budget-resolution</th>\n",
              "      <th>physician-fee-freeze</th>\n",
              "      <th>el-salvador-aid</th>\n",
              "      <th>religious-groups-in-schools</th>\n",
              "      <th>anti-satellite-test-ban</th>\n",
              "      <th>aid-to-nicaraguan-contras</th>\n",
              "      <th>mx-missile</th>\n",
              "      <th>immigration</th>\n",
              "      <th>synfuels-corporation-cutback</th>\n",
              "      <th>education-spending</th>\n",
              "      <th>superfund-right-to-sue</th>\n",
              "      <th>crime</th>\n",
              "      <th>duty-free-exports</th>\n",
              "      <th>export-administration-act-south-africa</th>\n",
              "    </tr>\n",
              "  </thead>\n",
              "  <tbody>\n",
              "    <tr>\n",
              "      <th>0</th>\n",
              "      <td>republican</td>\n",
              "      <td>n</td>\n",
              "      <td>y</td>\n",
              "      <td>n</td>\n",
              "      <td>y</td>\n",
              "      <td>y</td>\n",
              "      <td>y</td>\n",
              "      <td>n</td>\n",
              "      <td>n</td>\n",
              "      <td>n</td>\n",
              "      <td>y</td>\n",
              "      <td>?</td>\n",
              "      <td>y</td>\n",
              "      <td>y</td>\n",
              "      <td>y</td>\n",
              "      <td>n</td>\n",
              "      <td>y</td>\n",
              "    </tr>\n",
              "    <tr>\n",
              "      <th>1</th>\n",
              "      <td>republican</td>\n",
              "      <td>n</td>\n",
              "      <td>y</td>\n",
              "      <td>n</td>\n",
              "      <td>y</td>\n",
              "      <td>y</td>\n",
              "      <td>y</td>\n",
              "      <td>n</td>\n",
              "      <td>n</td>\n",
              "      <td>n</td>\n",
              "      <td>n</td>\n",
              "      <td>n</td>\n",
              "      <td>y</td>\n",
              "      <td>y</td>\n",
              "      <td>y</td>\n",
              "      <td>n</td>\n",
              "      <td>?</td>\n",
              "    </tr>\n",
              "    <tr>\n",
              "      <th>2</th>\n",
              "      <td>democrat</td>\n",
              "      <td>?</td>\n",
              "      <td>y</td>\n",
              "      <td>y</td>\n",
              "      <td>?</td>\n",
              "      <td>y</td>\n",
              "      <td>y</td>\n",
              "      <td>n</td>\n",
              "      <td>n</td>\n",
              "      <td>n</td>\n",
              "      <td>n</td>\n",
              "      <td>y</td>\n",
              "      <td>n</td>\n",
              "      <td>y</td>\n",
              "      <td>y</td>\n",
              "      <td>n</td>\n",
              "      <td>n</td>\n",
              "    </tr>\n",
              "    <tr>\n",
              "      <th>3</th>\n",
              "      <td>democrat</td>\n",
              "      <td>n</td>\n",
              "      <td>y</td>\n",
              "      <td>y</td>\n",
              "      <td>n</td>\n",
              "      <td>?</td>\n",
              "      <td>y</td>\n",
              "      <td>n</td>\n",
              "      <td>n</td>\n",
              "      <td>n</td>\n",
              "      <td>n</td>\n",
              "      <td>y</td>\n",
              "      <td>n</td>\n",
              "      <td>y</td>\n",
              "      <td>n</td>\n",
              "      <td>n</td>\n",
              "      <td>y</td>\n",
              "    </tr>\n",
              "    <tr>\n",
              "      <th>4</th>\n",
              "      <td>democrat</td>\n",
              "      <td>y</td>\n",
              "      <td>y</td>\n",
              "      <td>y</td>\n",
              "      <td>n</td>\n",
              "      <td>y</td>\n",
              "      <td>y</td>\n",
              "      <td>n</td>\n",
              "      <td>n</td>\n",
              "      <td>n</td>\n",
              "      <td>n</td>\n",
              "      <td>y</td>\n",
              "      <td>?</td>\n",
              "      <td>y</td>\n",
              "      <td>y</td>\n",
              "      <td>y</td>\n",
              "      <td>y</td>\n",
              "    </tr>\n",
              "  </tbody>\n",
              "</table>\n",
              "</div>\n",
              "    <div class=\"colab-df-buttons\">\n",
              "\n",
              "  <div class=\"colab-df-container\">\n",
              "    <button class=\"colab-df-convert\" onclick=\"convertToInteractive('df-90347c81-9705-4300-a3b5-8d550253edd5')\"\n",
              "            title=\"Convert this dataframe to an interactive table.\"\n",
              "            style=\"display:none;\">\n",
              "\n",
              "  <svg xmlns=\"http://www.w3.org/2000/svg\" height=\"24px\" viewBox=\"0 -960 960 960\">\n",
              "    <path d=\"M120-120v-720h720v720H120Zm60-500h600v-160H180v160Zm220 220h160v-160H400v160Zm0 220h160v-160H400v160ZM180-400h160v-160H180v160Zm440 0h160v-160H620v160ZM180-180h160v-160H180v160Zm440 0h160v-160H620v160Z\"/>\n",
              "  </svg>\n",
              "    </button>\n",
              "\n",
              "  <style>\n",
              "    .colab-df-container {\n",
              "      display:flex;\n",
              "      gap: 12px;\n",
              "    }\n",
              "\n",
              "    .colab-df-convert {\n",
              "      background-color: #E8F0FE;\n",
              "      border: none;\n",
              "      border-radius: 50%;\n",
              "      cursor: pointer;\n",
              "      display: none;\n",
              "      fill: #1967D2;\n",
              "      height: 32px;\n",
              "      padding: 0 0 0 0;\n",
              "      width: 32px;\n",
              "    }\n",
              "\n",
              "    .colab-df-convert:hover {\n",
              "      background-color: #E2EBFA;\n",
              "      box-shadow: 0px 1px 2px rgba(60, 64, 67, 0.3), 0px 1px 3px 1px rgba(60, 64, 67, 0.15);\n",
              "      fill: #174EA6;\n",
              "    }\n",
              "\n",
              "    .colab-df-buttons div {\n",
              "      margin-bottom: 4px;\n",
              "    }\n",
              "\n",
              "    [theme=dark] .colab-df-convert {\n",
              "      background-color: #3B4455;\n",
              "      fill: #D2E3FC;\n",
              "    }\n",
              "\n",
              "    [theme=dark] .colab-df-convert:hover {\n",
              "      background-color: #434B5C;\n",
              "      box-shadow: 0px 1px 3px 1px rgba(0, 0, 0, 0.15);\n",
              "      filter: drop-shadow(0px 1px 2px rgba(0, 0, 0, 0.3));\n",
              "      fill: #FFFFFF;\n",
              "    }\n",
              "  </style>\n",
              "\n",
              "    <script>\n",
              "      const buttonEl =\n",
              "        document.querySelector('#df-90347c81-9705-4300-a3b5-8d550253edd5 button.colab-df-convert');\n",
              "      buttonEl.style.display =\n",
              "        google.colab.kernel.accessAllowed ? 'block' : 'none';\n",
              "\n",
              "      async function convertToInteractive(key) {\n",
              "        const element = document.querySelector('#df-90347c81-9705-4300-a3b5-8d550253edd5');\n",
              "        const dataTable =\n",
              "          await google.colab.kernel.invokeFunction('convertToInteractive',\n",
              "                                                    [key], {});\n",
              "        if (!dataTable) return;\n",
              "\n",
              "        const docLinkHtml = 'Like what you see? Visit the ' +\n",
              "          '<a target=\"_blank\" href=https://colab.research.google.com/notebooks/data_table.ipynb>data table notebook</a>'\n",
              "          + ' to learn more about interactive tables.';\n",
              "        element.innerHTML = '';\n",
              "        dataTable['output_type'] = 'display_data';\n",
              "        await google.colab.output.renderOutput(dataTable, element);\n",
              "        const docLink = document.createElement('div');\n",
              "        docLink.innerHTML = docLinkHtml;\n",
              "        element.appendChild(docLink);\n",
              "      }\n",
              "    </script>\n",
              "  </div>\n",
              "\n",
              "\n",
              "<div id=\"df-6a7d3e27-5b6d-48c8-826e-c1095c16c95d\">\n",
              "  <button class=\"colab-df-quickchart\" onclick=\"quickchart('df-6a7d3e27-5b6d-48c8-826e-c1095c16c95d')\"\n",
              "            title=\"Suggest charts\"\n",
              "            style=\"display:none;\">\n",
              "\n",
              "<svg xmlns=\"http://www.w3.org/2000/svg\" height=\"24px\"viewBox=\"0 0 24 24\"\n",
              "     width=\"24px\">\n",
              "    <g>\n",
              "        <path d=\"M19 3H5c-1.1 0-2 .9-2 2v14c0 1.1.9 2 2 2h14c1.1 0 2-.9 2-2V5c0-1.1-.9-2-2-2zM9 17H7v-7h2v7zm4 0h-2V7h2v10zm4 0h-2v-4h2v4z\"/>\n",
              "    </g>\n",
              "</svg>\n",
              "  </button>\n",
              "\n",
              "<style>\n",
              "  .colab-df-quickchart {\n",
              "      --bg-color: #E8F0FE;\n",
              "      --fill-color: #1967D2;\n",
              "      --hover-bg-color: #E2EBFA;\n",
              "      --hover-fill-color: #174EA6;\n",
              "      --disabled-fill-color: #AAA;\n",
              "      --disabled-bg-color: #DDD;\n",
              "  }\n",
              "\n",
              "  [theme=dark] .colab-df-quickchart {\n",
              "      --bg-color: #3B4455;\n",
              "      --fill-color: #D2E3FC;\n",
              "      --hover-bg-color: #434B5C;\n",
              "      --hover-fill-color: #FFFFFF;\n",
              "      --disabled-bg-color: #3B4455;\n",
              "      --disabled-fill-color: #666;\n",
              "  }\n",
              "\n",
              "  .colab-df-quickchart {\n",
              "    background-color: var(--bg-color);\n",
              "    border: none;\n",
              "    border-radius: 50%;\n",
              "    cursor: pointer;\n",
              "    display: none;\n",
              "    fill: var(--fill-color);\n",
              "    height: 32px;\n",
              "    padding: 0;\n",
              "    width: 32px;\n",
              "  }\n",
              "\n",
              "  .colab-df-quickchart:hover {\n",
              "    background-color: var(--hover-bg-color);\n",
              "    box-shadow: 0 1px 2px rgba(60, 64, 67, 0.3), 0 1px 3px 1px rgba(60, 64, 67, 0.15);\n",
              "    fill: var(--button-hover-fill-color);\n",
              "  }\n",
              "\n",
              "  .colab-df-quickchart-complete:disabled,\n",
              "  .colab-df-quickchart-complete:disabled:hover {\n",
              "    background-color: var(--disabled-bg-color);\n",
              "    fill: var(--disabled-fill-color);\n",
              "    box-shadow: none;\n",
              "  }\n",
              "\n",
              "  .colab-df-spinner {\n",
              "    border: 2px solid var(--fill-color);\n",
              "    border-color: transparent;\n",
              "    border-bottom-color: var(--fill-color);\n",
              "    animation:\n",
              "      spin 1s steps(1) infinite;\n",
              "  }\n",
              "\n",
              "  @keyframes spin {\n",
              "    0% {\n",
              "      border-color: transparent;\n",
              "      border-bottom-color: var(--fill-color);\n",
              "      border-left-color: var(--fill-color);\n",
              "    }\n",
              "    20% {\n",
              "      border-color: transparent;\n",
              "      border-left-color: var(--fill-color);\n",
              "      border-top-color: var(--fill-color);\n",
              "    }\n",
              "    30% {\n",
              "      border-color: transparent;\n",
              "      border-left-color: var(--fill-color);\n",
              "      border-top-color: var(--fill-color);\n",
              "      border-right-color: var(--fill-color);\n",
              "    }\n",
              "    40% {\n",
              "      border-color: transparent;\n",
              "      border-right-color: var(--fill-color);\n",
              "      border-top-color: var(--fill-color);\n",
              "    }\n",
              "    60% {\n",
              "      border-color: transparent;\n",
              "      border-right-color: var(--fill-color);\n",
              "    }\n",
              "    80% {\n",
              "      border-color: transparent;\n",
              "      border-right-color: var(--fill-color);\n",
              "      border-bottom-color: var(--fill-color);\n",
              "    }\n",
              "    90% {\n",
              "      border-color: transparent;\n",
              "      border-bottom-color: var(--fill-color);\n",
              "    }\n",
              "  }\n",
              "</style>\n",
              "\n",
              "  <script>\n",
              "    async function quickchart(key) {\n",
              "      const quickchartButtonEl =\n",
              "        document.querySelector('#' + key + ' button');\n",
              "      quickchartButtonEl.disabled = true;  // To prevent multiple clicks.\n",
              "      quickchartButtonEl.classList.add('colab-df-spinner');\n",
              "      try {\n",
              "        const charts = await google.colab.kernel.invokeFunction(\n",
              "            'suggestCharts', [key], {});\n",
              "      } catch (error) {\n",
              "        console.error('Error during call to suggestCharts:', error);\n",
              "      }\n",
              "      quickchartButtonEl.classList.remove('colab-df-spinner');\n",
              "      quickchartButtonEl.classList.add('colab-df-quickchart-complete');\n",
              "    }\n",
              "    (() => {\n",
              "      let quickchartButtonEl =\n",
              "        document.querySelector('#df-6a7d3e27-5b6d-48c8-826e-c1095c16c95d button');\n",
              "      quickchartButtonEl.style.display =\n",
              "        google.colab.kernel.accessAllowed ? 'block' : 'none';\n",
              "    })();\n",
              "  </script>\n",
              "</div>\n",
              "\n",
              "    </div>\n",
              "  </div>\n"
            ],
            "application/vnd.google.colaboratory.intrinsic+json": {
              "type": "dataframe",
              "variable_name": "dataset",
              "summary": "{\n  \"name\": \"dataset\",\n  \"rows\": 435,\n  \"fields\": [\n    {\n      \"column\": \"class\",\n      \"properties\": {\n        \"dtype\": \"category\",\n        \"num_unique_values\": 2,\n        \"samples\": [\n          \"democrat\",\n          \"republican\"\n        ],\n        \"semantic_type\": \"\",\n        \"description\": \"\"\n      }\n    },\n    {\n      \"column\": \"handicapped-infants\",\n      \"properties\": {\n        \"dtype\": \"category\",\n        \"num_unique_values\": 3,\n        \"samples\": [\n          \"n\",\n          \"?\"\n        ],\n        \"semantic_type\": \"\",\n        \"description\": \"\"\n      }\n    },\n    {\n      \"column\": \"water-project-cost-sharing\",\n      \"properties\": {\n        \"dtype\": \"category\",\n        \"num_unique_values\": 3,\n        \"samples\": [\n          \"y\",\n          \"n\"\n        ],\n        \"semantic_type\": \"\",\n        \"description\": \"\"\n      }\n    },\n    {\n      \"column\": \"adoption-of-the-budget-resolution\",\n      \"properties\": {\n        \"dtype\": \"category\",\n        \"num_unique_values\": 3,\n        \"samples\": [\n          \"n\",\n          \"y\"\n        ],\n        \"semantic_type\": \"\",\n        \"description\": \"\"\n      }\n    },\n    {\n      \"column\": \"physician-fee-freeze\",\n      \"properties\": {\n        \"dtype\": \"category\",\n        \"num_unique_values\": 3,\n        \"samples\": [\n          \"y\",\n          \"?\"\n        ],\n        \"semantic_type\": \"\",\n        \"description\": \"\"\n      }\n    },\n    {\n      \"column\": \"el-salvador-aid\",\n      \"properties\": {\n        \"dtype\": \"category\",\n        \"num_unique_values\": 3,\n        \"samples\": [\n          \"y\",\n          \"?\"\n        ],\n        \"semantic_type\": \"\",\n        \"description\": \"\"\n      }\n    },\n    {\n      \"column\": \"religious-groups-in-schools\",\n      \"properties\": {\n        \"dtype\": \"category\",\n        \"num_unique_values\": 3,\n        \"samples\": [\n          \"y\",\n          \"n\"\n        ],\n        \"semantic_type\": \"\",\n        \"description\": \"\"\n      }\n    },\n    {\n      \"column\": \"anti-satellite-test-ban\",\n      \"properties\": {\n        \"dtype\": \"category\",\n        \"num_unique_values\": 3,\n        \"samples\": [\n          \"n\",\n          \"y\"\n        ],\n        \"semantic_type\": \"\",\n        \"description\": \"\"\n      }\n    },\n    {\n      \"column\": \"aid-to-nicaraguan-contras\",\n      \"properties\": {\n        \"dtype\": \"category\",\n        \"num_unique_values\": 3,\n        \"samples\": [\n          \"n\",\n          \"y\"\n        ],\n        \"semantic_type\": \"\",\n        \"description\": \"\"\n      }\n    },\n    {\n      \"column\": \"mx-missile\",\n      \"properties\": {\n        \"dtype\": \"category\",\n        \"num_unique_values\": 3,\n        \"samples\": [\n          \"n\",\n          \"y\"\n        ],\n        \"semantic_type\": \"\",\n        \"description\": \"\"\n      }\n    },\n    {\n      \"column\": \"immigration\",\n      \"properties\": {\n        \"dtype\": \"category\",\n        \"num_unique_values\": 3,\n        \"samples\": [\n          \"y\",\n          \"n\"\n        ],\n        \"semantic_type\": \"\",\n        \"description\": \"\"\n      }\n    },\n    {\n      \"column\": \"synfuels-corporation-cutback\",\n      \"properties\": {\n        \"dtype\": \"category\",\n        \"num_unique_values\": 3,\n        \"samples\": [\n          \"?\",\n          \"n\"\n        ],\n        \"semantic_type\": \"\",\n        \"description\": \"\"\n      }\n    },\n    {\n      \"column\": \"education-spending\",\n      \"properties\": {\n        \"dtype\": \"category\",\n        \"num_unique_values\": 3,\n        \"samples\": [\n          \"y\",\n          \"n\"\n        ],\n        \"semantic_type\": \"\",\n        \"description\": \"\"\n      }\n    },\n    {\n      \"column\": \"superfund-right-to-sue\",\n      \"properties\": {\n        \"dtype\": \"category\",\n        \"num_unique_values\": 3,\n        \"samples\": [\n          \"y\",\n          \"?\"\n        ],\n        \"semantic_type\": \"\",\n        \"description\": \"\"\n      }\n    },\n    {\n      \"column\": \"crime\",\n      \"properties\": {\n        \"dtype\": \"category\",\n        \"num_unique_values\": 3,\n        \"samples\": [\n          \"y\",\n          \"n\"\n        ],\n        \"semantic_type\": \"\",\n        \"description\": \"\"\n      }\n    },\n    {\n      \"column\": \"duty-free-exports\",\n      \"properties\": {\n        \"dtype\": \"category\",\n        \"num_unique_values\": 3,\n        \"samples\": [\n          \"n\",\n          \"y\"\n        ],\n        \"semantic_type\": \"\",\n        \"description\": \"\"\n      }\n    },\n    {\n      \"column\": \"export-administration-act-south-africa\",\n      \"properties\": {\n        \"dtype\": \"category\",\n        \"num_unique_values\": 3,\n        \"samples\": [\n          \"y\",\n          \"?\"\n        ],\n        \"semantic_type\": \"\",\n        \"description\": \"\"\n      }\n    }\n  ]\n}"
            }
          },
          "metadata": {},
          "execution_count": 3
        }
      ],
      "source": [
        "PATH = \"./house-votes-84.data\"\n",
        "\n",
        "COLUMNS = [\n",
        "   \"class\",\n",
        "   \"handicapped-infants\",\n",
        "   \"water-project-cost-sharing\",\n",
        "   \"adoption-of-the-budget-resolution\",\n",
        "   \"physician-fee-freeze\",\n",
        "   \"el-salvador-aid\",\n",
        "   \"religious-groups-in-schools\",\n",
        "   \"anti-satellite-test-ban\",\n",
        "   \"aid-to-nicaraguan-contras\",\n",
        "  \"mx-missile\",\n",
        "  \"immigration\",\n",
        "  \"synfuels-corporation-cutback\",\n",
        "  \"education-spending\",\n",
        "  \"superfund-right-to-sue\",\n",
        "  \"crime\",\n",
        "  \"duty-free-exports\",\n",
        "  \"export-administration-act-south-africa\"\n",
        "]\n",
        "\n",
        "dataset = pd.read_csv(PATH, names=COLUMNS)\n",
        "dataset.head()"
      ]
    },
    {
      "cell_type": "markdown",
      "metadata": {
        "id": "67r09yhx8uzv"
      },
      "source": [
        "Next, we show summary characteristics of the dataset:"
      ]
    },
    {
      "cell_type": "code",
      "execution_count": 4,
      "metadata": {
        "colab": {
          "base_uri": "https://localhost:8080/",
          "height": 247
        },
        "id": "VXev0xXu8tyy",
        "outputId": "1b61a2a1-91cb-4d4f-c0a8-e6b9ebebcc47"
      },
      "outputs": [
        {
          "output_type": "execute_result",
          "data": {
            "text/plain": [
              "           class handicapped-infants water-project-cost-sharing  \\\n",
              "count        435                 435                        435   \n",
              "unique         2                   3                          3   \n",
              "top     democrat                   n                          y   \n",
              "freq         267                 236                        195   \n",
              "\n",
              "       adoption-of-the-budget-resolution physician-fee-freeze el-salvador-aid  \\\n",
              "count                                435                  435             435   \n",
              "unique                                 3                    3               3   \n",
              "top                                    y                    n               y   \n",
              "freq                                 253                  247             212   \n",
              "\n",
              "       religious-groups-in-schools anti-satellite-test-ban  \\\n",
              "count                          435                     435   \n",
              "unique                           3                       3   \n",
              "top                              y                       y   \n",
              "freq                           272                     239   \n",
              "\n",
              "       aid-to-nicaraguan-contras mx-missile immigration  \\\n",
              "count                        435        435         435   \n",
              "unique                         3          3           3   \n",
              "top                            y          y           y   \n",
              "freq                         242        207         216   \n",
              "\n",
              "       synfuels-corporation-cutback education-spending superfund-right-to-sue  \\\n",
              "count                           435                435                    435   \n",
              "unique                            3                  3                      3   \n",
              "top                               n                  n                      y   \n",
              "freq                            264                233                    209   \n",
              "\n",
              "       crime duty-free-exports export-administration-act-south-africa  \n",
              "count    435               435                                    435  \n",
              "unique     3                 3                                      3  \n",
              "top        y                 n                                      y  \n",
              "freq     248               233                                    269  "
            ],
            "text/html": [
              "\n",
              "  <div id=\"df-594a3e8a-1ffa-4ffc-ba6f-329656badfda\" class=\"colab-df-container\">\n",
              "    <div>\n",
              "<style scoped>\n",
              "    .dataframe tbody tr th:only-of-type {\n",
              "        vertical-align: middle;\n",
              "    }\n",
              "\n",
              "    .dataframe tbody tr th {\n",
              "        vertical-align: top;\n",
              "    }\n",
              "\n",
              "    .dataframe thead th {\n",
              "        text-align: right;\n",
              "    }\n",
              "</style>\n",
              "<table border=\"1\" class=\"dataframe\">\n",
              "  <thead>\n",
              "    <tr style=\"text-align: right;\">\n",
              "      <th></th>\n",
              "      <th>class</th>\n",
              "      <th>handicapped-infants</th>\n",
              "      <th>water-project-cost-sharing</th>\n",
              "      <th>adoption-of-the-budget-resolution</th>\n",
              "      <th>physician-fee-freeze</th>\n",
              "      <th>el-salvador-aid</th>\n",
              "      <th>religious-groups-in-schools</th>\n",
              "      <th>anti-satellite-test-ban</th>\n",
              "      <th>aid-to-nicaraguan-contras</th>\n",
              "      <th>mx-missile</th>\n",
              "      <th>immigration</th>\n",
              "      <th>synfuels-corporation-cutback</th>\n",
              "      <th>education-spending</th>\n",
              "      <th>superfund-right-to-sue</th>\n",
              "      <th>crime</th>\n",
              "      <th>duty-free-exports</th>\n",
              "      <th>export-administration-act-south-africa</th>\n",
              "    </tr>\n",
              "  </thead>\n",
              "  <tbody>\n",
              "    <tr>\n",
              "      <th>count</th>\n",
              "      <td>435</td>\n",
              "      <td>435</td>\n",
              "      <td>435</td>\n",
              "      <td>435</td>\n",
              "      <td>435</td>\n",
              "      <td>435</td>\n",
              "      <td>435</td>\n",
              "      <td>435</td>\n",
              "      <td>435</td>\n",
              "      <td>435</td>\n",
              "      <td>435</td>\n",
              "      <td>435</td>\n",
              "      <td>435</td>\n",
              "      <td>435</td>\n",
              "      <td>435</td>\n",
              "      <td>435</td>\n",
              "      <td>435</td>\n",
              "    </tr>\n",
              "    <tr>\n",
              "      <th>unique</th>\n",
              "      <td>2</td>\n",
              "      <td>3</td>\n",
              "      <td>3</td>\n",
              "      <td>3</td>\n",
              "      <td>3</td>\n",
              "      <td>3</td>\n",
              "      <td>3</td>\n",
              "      <td>3</td>\n",
              "      <td>3</td>\n",
              "      <td>3</td>\n",
              "      <td>3</td>\n",
              "      <td>3</td>\n",
              "      <td>3</td>\n",
              "      <td>3</td>\n",
              "      <td>3</td>\n",
              "      <td>3</td>\n",
              "      <td>3</td>\n",
              "    </tr>\n",
              "    <tr>\n",
              "      <th>top</th>\n",
              "      <td>democrat</td>\n",
              "      <td>n</td>\n",
              "      <td>y</td>\n",
              "      <td>y</td>\n",
              "      <td>n</td>\n",
              "      <td>y</td>\n",
              "      <td>y</td>\n",
              "      <td>y</td>\n",
              "      <td>y</td>\n",
              "      <td>y</td>\n",
              "      <td>y</td>\n",
              "      <td>n</td>\n",
              "      <td>n</td>\n",
              "      <td>y</td>\n",
              "      <td>y</td>\n",
              "      <td>n</td>\n",
              "      <td>y</td>\n",
              "    </tr>\n",
              "    <tr>\n",
              "      <th>freq</th>\n",
              "      <td>267</td>\n",
              "      <td>236</td>\n",
              "      <td>195</td>\n",
              "      <td>253</td>\n",
              "      <td>247</td>\n",
              "      <td>212</td>\n",
              "      <td>272</td>\n",
              "      <td>239</td>\n",
              "      <td>242</td>\n",
              "      <td>207</td>\n",
              "      <td>216</td>\n",
              "      <td>264</td>\n",
              "      <td>233</td>\n",
              "      <td>209</td>\n",
              "      <td>248</td>\n",
              "      <td>233</td>\n",
              "      <td>269</td>\n",
              "    </tr>\n",
              "  </tbody>\n",
              "</table>\n",
              "</div>\n",
              "    <div class=\"colab-df-buttons\">\n",
              "\n",
              "  <div class=\"colab-df-container\">\n",
              "    <button class=\"colab-df-convert\" onclick=\"convertToInteractive('df-594a3e8a-1ffa-4ffc-ba6f-329656badfda')\"\n",
              "            title=\"Convert this dataframe to an interactive table.\"\n",
              "            style=\"display:none;\">\n",
              "\n",
              "  <svg xmlns=\"http://www.w3.org/2000/svg\" height=\"24px\" viewBox=\"0 -960 960 960\">\n",
              "    <path d=\"M120-120v-720h720v720H120Zm60-500h600v-160H180v160Zm220 220h160v-160H400v160Zm0 220h160v-160H400v160ZM180-400h160v-160H180v160Zm440 0h160v-160H620v160ZM180-180h160v-160H180v160Zm440 0h160v-160H620v160Z\"/>\n",
              "  </svg>\n",
              "    </button>\n",
              "\n",
              "  <style>\n",
              "    .colab-df-container {\n",
              "      display:flex;\n",
              "      gap: 12px;\n",
              "    }\n",
              "\n",
              "    .colab-df-convert {\n",
              "      background-color: #E8F0FE;\n",
              "      border: none;\n",
              "      border-radius: 50%;\n",
              "      cursor: pointer;\n",
              "      display: none;\n",
              "      fill: #1967D2;\n",
              "      height: 32px;\n",
              "      padding: 0 0 0 0;\n",
              "      width: 32px;\n",
              "    }\n",
              "\n",
              "    .colab-df-convert:hover {\n",
              "      background-color: #E2EBFA;\n",
              "      box-shadow: 0px 1px 2px rgba(60, 64, 67, 0.3), 0px 1px 3px 1px rgba(60, 64, 67, 0.15);\n",
              "      fill: #174EA6;\n",
              "    }\n",
              "\n",
              "    .colab-df-buttons div {\n",
              "      margin-bottom: 4px;\n",
              "    }\n",
              "\n",
              "    [theme=dark] .colab-df-convert {\n",
              "      background-color: #3B4455;\n",
              "      fill: #D2E3FC;\n",
              "    }\n",
              "\n",
              "    [theme=dark] .colab-df-convert:hover {\n",
              "      background-color: #434B5C;\n",
              "      box-shadow: 0px 1px 3px 1px rgba(0, 0, 0, 0.15);\n",
              "      filter: drop-shadow(0px 1px 2px rgba(0, 0, 0, 0.3));\n",
              "      fill: #FFFFFF;\n",
              "    }\n",
              "  </style>\n",
              "\n",
              "    <script>\n",
              "      const buttonEl =\n",
              "        document.querySelector('#df-594a3e8a-1ffa-4ffc-ba6f-329656badfda button.colab-df-convert');\n",
              "      buttonEl.style.display =\n",
              "        google.colab.kernel.accessAllowed ? 'block' : 'none';\n",
              "\n",
              "      async function convertToInteractive(key) {\n",
              "        const element = document.querySelector('#df-594a3e8a-1ffa-4ffc-ba6f-329656badfda');\n",
              "        const dataTable =\n",
              "          await google.colab.kernel.invokeFunction('convertToInteractive',\n",
              "                                                    [key], {});\n",
              "        if (!dataTable) return;\n",
              "\n",
              "        const docLinkHtml = 'Like what you see? Visit the ' +\n",
              "          '<a target=\"_blank\" href=https://colab.research.google.com/notebooks/data_table.ipynb>data table notebook</a>'\n",
              "          + ' to learn more about interactive tables.';\n",
              "        element.innerHTML = '';\n",
              "        dataTable['output_type'] = 'display_data';\n",
              "        await google.colab.output.renderOutput(dataTable, element);\n",
              "        const docLink = document.createElement('div');\n",
              "        docLink.innerHTML = docLinkHtml;\n",
              "        element.appendChild(docLink);\n",
              "      }\n",
              "    </script>\n",
              "  </div>\n",
              "\n",
              "\n",
              "<div id=\"df-33b76df4-a576-453e-9e21-460e9be96803\">\n",
              "  <button class=\"colab-df-quickchart\" onclick=\"quickchart('df-33b76df4-a576-453e-9e21-460e9be96803')\"\n",
              "            title=\"Suggest charts\"\n",
              "            style=\"display:none;\">\n",
              "\n",
              "<svg xmlns=\"http://www.w3.org/2000/svg\" height=\"24px\"viewBox=\"0 0 24 24\"\n",
              "     width=\"24px\">\n",
              "    <g>\n",
              "        <path d=\"M19 3H5c-1.1 0-2 .9-2 2v14c0 1.1.9 2 2 2h14c1.1 0 2-.9 2-2V5c0-1.1-.9-2-2-2zM9 17H7v-7h2v7zm4 0h-2V7h2v10zm4 0h-2v-4h2v4z\"/>\n",
              "    </g>\n",
              "</svg>\n",
              "  </button>\n",
              "\n",
              "<style>\n",
              "  .colab-df-quickchart {\n",
              "      --bg-color: #E8F0FE;\n",
              "      --fill-color: #1967D2;\n",
              "      --hover-bg-color: #E2EBFA;\n",
              "      --hover-fill-color: #174EA6;\n",
              "      --disabled-fill-color: #AAA;\n",
              "      --disabled-bg-color: #DDD;\n",
              "  }\n",
              "\n",
              "  [theme=dark] .colab-df-quickchart {\n",
              "      --bg-color: #3B4455;\n",
              "      --fill-color: #D2E3FC;\n",
              "      --hover-bg-color: #434B5C;\n",
              "      --hover-fill-color: #FFFFFF;\n",
              "      --disabled-bg-color: #3B4455;\n",
              "      --disabled-fill-color: #666;\n",
              "  }\n",
              "\n",
              "  .colab-df-quickchart {\n",
              "    background-color: var(--bg-color);\n",
              "    border: none;\n",
              "    border-radius: 50%;\n",
              "    cursor: pointer;\n",
              "    display: none;\n",
              "    fill: var(--fill-color);\n",
              "    height: 32px;\n",
              "    padding: 0;\n",
              "    width: 32px;\n",
              "  }\n",
              "\n",
              "  .colab-df-quickchart:hover {\n",
              "    background-color: var(--hover-bg-color);\n",
              "    box-shadow: 0 1px 2px rgba(60, 64, 67, 0.3), 0 1px 3px 1px rgba(60, 64, 67, 0.15);\n",
              "    fill: var(--button-hover-fill-color);\n",
              "  }\n",
              "\n",
              "  .colab-df-quickchart-complete:disabled,\n",
              "  .colab-df-quickchart-complete:disabled:hover {\n",
              "    background-color: var(--disabled-bg-color);\n",
              "    fill: var(--disabled-fill-color);\n",
              "    box-shadow: none;\n",
              "  }\n",
              "\n",
              "  .colab-df-spinner {\n",
              "    border: 2px solid var(--fill-color);\n",
              "    border-color: transparent;\n",
              "    border-bottom-color: var(--fill-color);\n",
              "    animation:\n",
              "      spin 1s steps(1) infinite;\n",
              "  }\n",
              "\n",
              "  @keyframes spin {\n",
              "    0% {\n",
              "      border-color: transparent;\n",
              "      border-bottom-color: var(--fill-color);\n",
              "      border-left-color: var(--fill-color);\n",
              "    }\n",
              "    20% {\n",
              "      border-color: transparent;\n",
              "      border-left-color: var(--fill-color);\n",
              "      border-top-color: var(--fill-color);\n",
              "    }\n",
              "    30% {\n",
              "      border-color: transparent;\n",
              "      border-left-color: var(--fill-color);\n",
              "      border-top-color: var(--fill-color);\n",
              "      border-right-color: var(--fill-color);\n",
              "    }\n",
              "    40% {\n",
              "      border-color: transparent;\n",
              "      border-right-color: var(--fill-color);\n",
              "      border-top-color: var(--fill-color);\n",
              "    }\n",
              "    60% {\n",
              "      border-color: transparent;\n",
              "      border-right-color: var(--fill-color);\n",
              "    }\n",
              "    80% {\n",
              "      border-color: transparent;\n",
              "      border-right-color: var(--fill-color);\n",
              "      border-bottom-color: var(--fill-color);\n",
              "    }\n",
              "    90% {\n",
              "      border-color: transparent;\n",
              "      border-bottom-color: var(--fill-color);\n",
              "    }\n",
              "  }\n",
              "</style>\n",
              "\n",
              "  <script>\n",
              "    async function quickchart(key) {\n",
              "      const quickchartButtonEl =\n",
              "        document.querySelector('#' + key + ' button');\n",
              "      quickchartButtonEl.disabled = true;  // To prevent multiple clicks.\n",
              "      quickchartButtonEl.classList.add('colab-df-spinner');\n",
              "      try {\n",
              "        const charts = await google.colab.kernel.invokeFunction(\n",
              "            'suggestCharts', [key], {});\n",
              "      } catch (error) {\n",
              "        console.error('Error during call to suggestCharts:', error);\n",
              "      }\n",
              "      quickchartButtonEl.classList.remove('colab-df-spinner');\n",
              "      quickchartButtonEl.classList.add('colab-df-quickchart-complete');\n",
              "    }\n",
              "    (() => {\n",
              "      let quickchartButtonEl =\n",
              "        document.querySelector('#df-33b76df4-a576-453e-9e21-460e9be96803 button');\n",
              "      quickchartButtonEl.style.display =\n",
              "        google.colab.kernel.accessAllowed ? 'block' : 'none';\n",
              "    })();\n",
              "  </script>\n",
              "</div>\n",
              "\n",
              "    </div>\n",
              "  </div>\n"
            ],
            "application/vnd.google.colaboratory.intrinsic+json": {
              "type": "dataframe",
              "summary": "{\n  \"name\": \"dataset\",\n  \"rows\": 4,\n  \"fields\": [\n    {\n      \"column\": \"class\",\n      \"properties\": {\n        \"dtype\": \"string\",\n        \"num_unique_values\": 4,\n        \"samples\": [\n          2,\n          \"267\",\n          \"435\"\n        ],\n        \"semantic_type\": \"\",\n        \"description\": \"\"\n      }\n    },\n    {\n      \"column\": \"handicapped-infants\",\n      \"properties\": {\n        \"dtype\": \"string\",\n        \"num_unique_values\": 4,\n        \"samples\": [\n          3,\n          \"236\",\n          \"435\"\n        ],\n        \"semantic_type\": \"\",\n        \"description\": \"\"\n      }\n    },\n    {\n      \"column\": \"water-project-cost-sharing\",\n      \"properties\": {\n        \"dtype\": \"string\",\n        \"num_unique_values\": 4,\n        \"samples\": [\n          3,\n          \"195\",\n          \"435\"\n        ],\n        \"semantic_type\": \"\",\n        \"description\": \"\"\n      }\n    },\n    {\n      \"column\": \"adoption-of-the-budget-resolution\",\n      \"properties\": {\n        \"dtype\": \"string\",\n        \"num_unique_values\": 4,\n        \"samples\": [\n          3,\n          \"253\",\n          \"435\"\n        ],\n        \"semantic_type\": \"\",\n        \"description\": \"\"\n      }\n    },\n    {\n      \"column\": \"physician-fee-freeze\",\n      \"properties\": {\n        \"dtype\": \"string\",\n        \"num_unique_values\": 4,\n        \"samples\": [\n          3,\n          \"247\",\n          \"435\"\n        ],\n        \"semantic_type\": \"\",\n        \"description\": \"\"\n      }\n    },\n    {\n      \"column\": \"el-salvador-aid\",\n      \"properties\": {\n        \"dtype\": \"string\",\n        \"num_unique_values\": 4,\n        \"samples\": [\n          3,\n          \"212\",\n          \"435\"\n        ],\n        \"semantic_type\": \"\",\n        \"description\": \"\"\n      }\n    },\n    {\n      \"column\": \"religious-groups-in-schools\",\n      \"properties\": {\n        \"dtype\": \"string\",\n        \"num_unique_values\": 4,\n        \"samples\": [\n          3,\n          \"272\",\n          \"435\"\n        ],\n        \"semantic_type\": \"\",\n        \"description\": \"\"\n      }\n    },\n    {\n      \"column\": \"anti-satellite-test-ban\",\n      \"properties\": {\n        \"dtype\": \"string\",\n        \"num_unique_values\": 4,\n        \"samples\": [\n          3,\n          \"239\",\n          \"435\"\n        ],\n        \"semantic_type\": \"\",\n        \"description\": \"\"\n      }\n    },\n    {\n      \"column\": \"aid-to-nicaraguan-contras\",\n      \"properties\": {\n        \"dtype\": \"string\",\n        \"num_unique_values\": 4,\n        \"samples\": [\n          3,\n          \"242\",\n          \"435\"\n        ],\n        \"semantic_type\": \"\",\n        \"description\": \"\"\n      }\n    },\n    {\n      \"column\": \"mx-missile\",\n      \"properties\": {\n        \"dtype\": \"string\",\n        \"num_unique_values\": 4,\n        \"samples\": [\n          3,\n          \"207\",\n          \"435\"\n        ],\n        \"semantic_type\": \"\",\n        \"description\": \"\"\n      }\n    },\n    {\n      \"column\": \"immigration\",\n      \"properties\": {\n        \"dtype\": \"string\",\n        \"num_unique_values\": 4,\n        \"samples\": [\n          3,\n          \"216\",\n          \"435\"\n        ],\n        \"semantic_type\": \"\",\n        \"description\": \"\"\n      }\n    },\n    {\n      \"column\": \"synfuels-corporation-cutback\",\n      \"properties\": {\n        \"dtype\": \"string\",\n        \"num_unique_values\": 4,\n        \"samples\": [\n          3,\n          \"264\",\n          \"435\"\n        ],\n        \"semantic_type\": \"\",\n        \"description\": \"\"\n      }\n    },\n    {\n      \"column\": \"education-spending\",\n      \"properties\": {\n        \"dtype\": \"string\",\n        \"num_unique_values\": 4,\n        \"samples\": [\n          3,\n          \"233\",\n          \"435\"\n        ],\n        \"semantic_type\": \"\",\n        \"description\": \"\"\n      }\n    },\n    {\n      \"column\": \"superfund-right-to-sue\",\n      \"properties\": {\n        \"dtype\": \"string\",\n        \"num_unique_values\": 4,\n        \"samples\": [\n          3,\n          \"209\",\n          \"435\"\n        ],\n        \"semantic_type\": \"\",\n        \"description\": \"\"\n      }\n    },\n    {\n      \"column\": \"crime\",\n      \"properties\": {\n        \"dtype\": \"string\",\n        \"num_unique_values\": 4,\n        \"samples\": [\n          3,\n          \"248\",\n          \"435\"\n        ],\n        \"semantic_type\": \"\",\n        \"description\": \"\"\n      }\n    },\n    {\n      \"column\": \"duty-free-exports\",\n      \"properties\": {\n        \"dtype\": \"string\",\n        \"num_unique_values\": 4,\n        \"samples\": [\n          3,\n          \"233\",\n          \"435\"\n        ],\n        \"semantic_type\": \"\",\n        \"description\": \"\"\n      }\n    },\n    {\n      \"column\": \"export-administration-act-south-africa\",\n      \"properties\": {\n        \"dtype\": \"string\",\n        \"num_unique_values\": 4,\n        \"samples\": [\n          3,\n          \"269\",\n          \"435\"\n        ],\n        \"semantic_type\": \"\",\n        \"description\": \"\"\n      }\n    }\n  ]\n}"
            }
          },
          "metadata": {},
          "execution_count": 4
        }
      ],
      "source": [
        "dataset.describe()"
      ]
    },
    {
      "cell_type": "markdown",
      "metadata": {
        "id": "Invhg7wc_9e9"
      },
      "source": [
        "We may observe that there are 435 congressmen in total (count). Next, we observe that each attribute has a domain of 3 elements (unique) (besides class attribute, which has only 2 possible values). Furthermore, we are able to see the most frequent value for each attribute (top) together with its frequency (freq)."
      ]
    },
    {
      "cell_type": "markdown",
      "metadata": {
        "id": "unlJRavolK0N"
      },
      "source": [
        "The voting results are visible in the following histogram:"
      ]
    },
    {
      "cell_type": "code",
      "execution_count": 5,
      "metadata": {
        "colab": {
          "base_uri": "https://localhost:8080/",
          "height": 946
        },
        "id": "QhlLS--sAgfl",
        "outputId": "1084159f-0ae1-4b78-faa7-5896ee115480"
      },
      "outputs": [
        {
          "output_type": "execute_result",
          "data": {
            "text/plain": [
              "<matplotlib.legend.Legend at 0x7a315404b130>"
            ]
          },
          "metadata": {},
          "execution_count": 5
        },
        {
          "output_type": "display_data",
          "data": {
            "text/plain": [
              "<Figure size 1200x800 with 1 Axes>"
            ],
            "image/png": "[encoded data removed]"
          },
          "metadata": {}
        }
      ],
      "source": [
        "cdf = pd.DataFrame()\n",
        "for feature in dataset.drop(\"class\", axis=1).columns:\n",
        "    counts = dataset[feature].value_counts()\n",
        "    for val in [\"y\", \"n\", \"?\"]:\n",
        "        if val not in counts.index:\n",
        "            counts[val] = 0\n",
        "\n",
        "    cdf[feature] = counts\n",
        "\n",
        "cdf.T.plot(kind=\"bar\", figsize=(12, 8))\n",
        "plt.legend(title='Values')"
      ]
    },
    {
      "cell_type": "markdown",
      "metadata": {
        "id": "qynF563vEN-d"
      },
      "source": [
        "We can see that the value `?` - not yes either no, is not very common. Regarding the rest, it strongly depends on the particular question. There are questions the result of which is very close and also questions with clear outcome."
      ]
    },
    {
      "cell_type": "markdown",
      "metadata": {
        "id": "Rm86kLO_GN7v"
      },
      "source": [
        "More complex exploration could be applied. For instance, correspondence analysis, categorical correlation, and cross-tabulation etc. However, we focus on doing frequent itemset mining, thus, we will omit these."
      ]
    },
    {
      "cell_type": "markdown",
      "metadata": {
        "id": "y0Z4W1D2r6ap"
      },
      "source": [
        "## Data preprocessing"
      ]
    },
    {
      "cell_type": "markdown",
      "metadata": {
        "id": "D-2zRjwBr_8O"
      },
      "source": [
        "Now we are going to convert our dataset into set of transactions. Since all the features are categorical with 3 possible answers, we are going to binarize each of them similarly to binarization presented in `fim_abalone` notebook. Regarding the `class`attribute, since it is already binary, we could create item \"democrat\" denoting political party of given congressman. However, for easier manipulation while filtering frequent itemsets (see the section below) and also better readability and convenience, we will split it anyway. That way, it is going to be easy to recognize the political party of each \"transaction\" (i.e. congressman)."
      ]
    },
    {
      "cell_type": "markdown",
      "metadata": {
        "id": "yEEUeBbMtZAS"
      },
      "source": [
        "The following code is a modified version of code and from `fim_abalone` notebook."
      ]
    },
    {
      "cell_type": "code",
      "execution_count": 6,
      "metadata": {
        "id": "-XytrZDnsx39"
      },
      "outputs": [],
      "source": [
        "def cats_to_item_labels(var_name: str, cats: list[str]) -> list[str]:\n",
        "    return [ f\"{var_name}_{cat}\" for cat in cats]\n",
        "\n",
        "def categorical_variable_to_items(dtf: pd.DataFrame, var_name: str) -> tuple[NDArray, list[str]]:\n",
        "    cols = pd.crosstab(dtf.index, [dtf[var_name]])\n",
        "    cats = list(cols.columns)\n",
        "    return cols.values.T, cats_to_item_labels(var_name, cats)"
      ]
    },
    {
      "cell_type": "markdown",
      "metadata": {
        "id": "DN_MWEOPwfR8"
      },
      "source": [
        "By using functions above, we convert each feature into couple of disjoint binary features resulting in a binary matrix indicating the voting of each congressman:"
      ]
    },
    {
      "cell_type": "code",
      "execution_count": 7,
      "metadata": {
        "colab": {
          "base_uri": "https://localhost:8080/"
        },
        "id": "-OYOWbsDt6Ne",
        "outputId": "68f7267e-b7fd-4ac4-ff0e-0a9be7a3e662"
      },
      "outputs": [
        {
          "output_type": "execute_result",
          "data": {
            "text/plain": [
              "array([[0, 1, 0, ..., 0, 0, 1],\n",
              "       [0, 1, 0, ..., 1, 0, 0],\n",
              "       [1, 0, 1, ..., 0, 1, 0],\n",
              "       ...,\n",
              "       [0, 1, 0, ..., 0, 0, 1],\n",
              "       [0, 1, 0, ..., 0, 0, 1],\n",
              "       [0, 1, 0, ..., 0, 1, 0]])"
            ]
          },
          "metadata": {},
          "execution_count": 7
        }
      ],
      "source": [
        "bin_dataset = pd.DataFrame()\n",
        "\n",
        "for attr in dataset.columns:\n",
        "    cols, labels = categorical_variable_to_items(dataset, attr)\n",
        "    for i in range(len(cols)):\n",
        "        bin_dataset[ labels[i] ] = cols[i]\n",
        "\n",
        "bin_mat = bin_dataset.to_numpy()\n",
        "bin_mat"
      ]
    },
    {
      "cell_type": "markdown",
      "metadata": {
        "id": "ieEihZE0xYpI"
      },
      "source": [
        "Finally, since our algorithm expects each transaction in the \"set of items\" form, we are going to convert it:"
      ]
    },
    {
      "cell_type": "code",
      "execution_count": 8,
      "metadata": {
        "colab": {
          "base_uri": "https://localhost:8080/"
        },
        "id": "imLWSZmHx0hQ",
        "outputId": "ee96bb23-3c88-4d99-89fe-c3fbedac60f8"
      },
      "outputs": [
        {
          "output_type": "execute_result",
          "data": {
            "text/plain": [
              "[{1, 3, 7, 9, 13, 16, 19, 21, 24, 27, 31, 32, 37, 40, 43, 45, 49},\n",
              " {1, 3, 7, 9, 13, 16, 19, 21, 24, 27, 30, 33, 37, 40, 43, 45, 47},\n",
              " {0, 2, 7, 10, 11, 16, 19, 21, 24, 27, 30, 34, 36, 40, 43, 45, 48},\n",
              " {0, 3, 7, 10, 12, 14, 19, 21, 24, 27, 30, 34, 36, 40, 42, 45, 49}]"
            ]
          },
          "metadata": {},
          "execution_count": 8
        }
      ],
      "source": [
        "tracts = [set(np.where(r)[0]) for r in bin_mat]\n",
        "n = len(tracts)\n",
        "tracts[:4]"
      ]
    },
    {
      "cell_type": "markdown",
      "metadata": {
        "id": "doxRW7z8zbNB"
      },
      "source": [
        "Similar to the abalone example, we see that each transaction comprises 17 items, which is equal to number of features in the original dataset. This phenomenon happens for the same reason as in the abalone example."
      ]
    },
    {
      "cell_type": "code",
      "execution_count": 9,
      "metadata": {
        "colab": {
          "base_uri": "https://localhost:8080/"
        },
        "id": "5-10C3HEzpkP",
        "outputId": "b42c4ffa-2ca7-49aa-be77-0f201df51ea9"
      },
      "outputs": [
        {
          "output_type": "execute_result",
          "data": {
            "text/plain": [
              "{17}"
            ]
          },
          "metadata": {},
          "execution_count": 9
        }
      ],
      "source": [
        "set([len(tract) for tract in tracts])"
      ]
    },
    {
      "cell_type": "markdown",
      "metadata": {
        "id": "ONIxGDQdz33_"
      },
      "source": [
        "## Frequent itemset mining"
      ]
    },
    {
      "cell_type": "markdown",
      "metadata": {
        "id": "p2pU3XVXz6zN"
      },
      "source": [
        "Now, we are finally ready to perform mining on our list of transactions. As a first try, we will use 10% relative support threshold and see how it goes."
      ]
    },
    {
      "cell_type": "code",
      "execution_count": 10,
      "metadata": {
        "colab": {
          "base_uri": "https://localhost:8080/"
        },
        "id": "qC5TbZWv0v-I",
        "outputId": "421587c2-be7f-4b93-ec35-590da533d984"
      },
      "outputs": [
        {
          "output_type": "stream",
          "name": "stdout",
          "text": [
            "696 ms ± 42.9 ms per loop (mean ± std. dev. of 7 runs, 1 loop each)\n",
            "# frequent itemsets:  92746\n"
          ]
        }
      ],
      "source": [
        "%timeit fim(tracts, target='s', supp=10)\n",
        "freqs = fim(tracts, target='s', supp=10)\n",
        "print(\"# frequent itemsets: \", len(freqs))"
      ]
    },
    {
      "cell_type": "markdown",
      "metadata": {
        "id": "NQQW0wXMjbNx"
      },
      "source": [
        "We can see that we mined a large number of frequent itemsets."
      ]
    },
    {
      "cell_type": "code",
      "execution_count": 11,
      "metadata": {
        "id": "zPrOGRWw4KYs"
      },
      "outputs": [],
      "source": [
        "def print_frequent(freqs, must_contain: list[str] | None = None, wrt: int=-1) -> None:\n",
        "    \"\"\"\n",
        "    Function to print a set of frequent itemsets <freqs>\n",
        "\n",
        "    if <must_contain> is not None, the following filtering is applied:\n",
        "        for every item in <must_contain>\n",
        "            if the item is list:\n",
        "                at least one of the items of that list must be present in each filtered frequent itemset\n",
        "            else\n",
        "                each filtered frequent itemset must contain that item\n",
        "\n",
        "    after the filtering phase, top 10 frequent itemsets (sorted by support in descending order) are printed\n",
        "    (The percentage is relative to <wrt>. If <wrt> is -1, then we take it relative to the number of transactions.)\n",
        "    \"\"\"\n",
        "\n",
        "    if wrt == -1:\n",
        "        wrt = len(tracts)\n",
        "\n",
        "    if must_contain is None:\n",
        "        must_contain = []\n",
        "\n",
        "    filtered = []\n",
        "    for freq in freqs:\n",
        "        success = True\n",
        "        labels = [bin_dataset.columns[x] for x in freq[0]]\n",
        "        for feature in must_contain:\n",
        "            if type(feature) == list:\n",
        "                found = False\n",
        "                for option in feature:\n",
        "                    if option in labels:\n",
        "                        found = True\n",
        "                        break\n",
        "                success = found\n",
        "\n",
        "            elif feature not in labels:\n",
        "                success = False\n",
        "\n",
        "            if not success:\n",
        "                break\n",
        "\n",
        "        if success:\n",
        "            filtered.append(freq)\n",
        "\n",
        "    for i, freq in enumerate(sorted(filtered, key=lambda x: -x[1])[:10]):\n",
        "        print(str(i) + \" (\" + \" \".join([bin_dataset.columns[x] for x in freq[0]]) + \")\", freq[1], f\"{(freq[1] / wrt * 100):.1f}%\")"
      ]
    },
    {
      "cell_type": "markdown",
      "metadata": {
        "id": "F-q-SQID1Ndg"
      },
      "source": [
        "Let's have a look on a few most frequent ones:"
      ]
    },
    {
      "cell_type": "code",
      "execution_count": 12,
      "metadata": {
        "colab": {
          "base_uri": "https://localhost:8080/"
        },
        "id": "G2i1Mzoz1Uco",
        "outputId": "ff15a2fa-c45c-440a-f06f-85fac4e13ced"
      },
      "outputs": [
        {
          "output_type": "stream",
          "name": "stdout",
          "text": [
            "0 (religious-groups-in-schools_y) 272 62.5%\n",
            "1 (export-administration-act-south-africa_y) 269 61.8%\n",
            "2 (class_democrat) 267 61.4%\n",
            "3 (synfuels-corporation-cutback_n) 264 60.7%\n",
            "4 (adoption-of-the-budget-resolution_y) 253 58.2%\n",
            "5 (crime_y) 248 57.0%\n",
            "6 (physician-fee-freeze_n) 247 56.8%\n",
            "7 (physician-fee-freeze_n class_democrat) 245 56.3%\n",
            "8 (aid-to-nicaraguan-contras_y) 242 55.6%\n",
            "9 (anti-satellite-test-ban_y) 239 54.9%\n"
          ]
        }
      ],
      "source": [
        "print_frequent(freqs)"
      ]
    },
    {
      "cell_type": "markdown",
      "metadata": {
        "id": "efYj9_1U3dcP"
      },
      "source": [
        "Similar to the abalone example, we see mostly singleton itemsets. We can already see that most congressmen vote positively for religious groups in school (itemset #0). The interesting thing is that in this case we also see one itemset of size 2, namely, it seems that the most of democrats voted \"no\" for \"physician-fee-freeze\" question (itemset #7). Actually, We can tell exactly what proportion of democrats voted \"no\" in that matter (approximating a probability that a congressman votes \"no\" in that matter given it is a democrat):"
      ]
    },
    {
      "cell_type": "code",
      "execution_count": 13,
      "metadata": {
        "colab": {
          "base_uri": "https://localhost:8080/"
        },
        "id": "BS0A_LH3plOx",
        "outputId": "07cafbbd-8d20-4c56-948e-4c6d492fe8aa"
      },
      "outputs": [
        {
          "output_type": "execute_result",
          "data": {
            "text/plain": [
              "0.9176029962546817"
            ]
          },
          "metadata": {},
          "execution_count": 13
        }
      ],
      "source": [
        "n_democrats = np.sum(bin_dataset[\"class_democrat\"])\n",
        "245 / n_democrats"
      ]
    },
    {
      "cell_type": "markdown",
      "metadata": {
        "id": "rNqU4p864aYe"
      },
      "source": [
        "Since singleton itemsets are not of our interest, we will allow only itemsets of size at least 2 to be present in the results."
      ]
    },
    {
      "cell_type": "code",
      "execution_count": 14,
      "metadata": {
        "colab": {
          "base_uri": "https://localhost:8080/"
        },
        "id": "EWirOD3c4jnl",
        "outputId": "d0a7300a-fb00-4361-a111-d580290d2890"
      },
      "outputs": [
        {
          "output_type": "stream",
          "name": "stdout",
          "text": [
            "# frequent itemsets:  92710\n",
            "0 (physician-fee-freeze_n class_democrat) 245 56.3%\n",
            "1 (adoption-of-the-budget-resolution_y class_democrat) 231 53.1%\n",
            "2 (physician-fee-freeze_n adoption-of-the-budget-resolution_y class_democrat) 219 50.3%\n",
            "3 (physician-fee-freeze_n adoption-of-the-budget-resolution_y) 219 50.3%\n",
            "4 (aid-to-nicaraguan-contras_y class_democrat) 218 50.1%\n",
            "5 (aid-to-nicaraguan-contras_y adoption-of-the-budget-resolution_y) 215 49.4%\n",
            "6 (crime_y religious-groups-in-schools_y) 214 49.2%\n",
            "7 (education-spending_n class_democrat) 213 49.0%\n",
            "8 (aid-to-nicaraguan-contras_y physician-fee-freeze_n) 211 48.5%\n",
            "9 (anti-satellite-test-ban_y aid-to-nicaraguan-contras_y) 210 48.3%\n"
          ]
        }
      ],
      "source": [
        "freqs = fim(tracts, target='s', supp=10, zmin=2)\n",
        "print(\"# frequent itemsets: \", len(freqs))\n",
        "print_frequent(freqs)"
      ]
    },
    {
      "cell_type": "markdown",
      "metadata": {
        "id": "VISf72PK6ymw"
      },
      "source": [
        "Let's try to get only the frequent itemsets that inlclude either democrat or republican class to reveal some information about them. We take all the percentages relatively to the number of democrats/republicans respectively this time."
      ]
    },
    {
      "cell_type": "code",
      "execution_count": 15,
      "metadata": {
        "colab": {
          "base_uri": "https://localhost:8080/"
        },
        "id": "oT_-ocxD7CKf",
        "outputId": "18e5cece-8bae-4a7b-a794-01a4361ea510"
      },
      "outputs": [
        {
          "output_type": "stream",
          "name": "stdout",
          "text": [
            "0 (physician-fee-freeze_n class_democrat) 245 91.8%\n",
            "1 (adoption-of-the-budget-resolution_y class_democrat) 231 86.5%\n",
            "2 (physician-fee-freeze_n adoption-of-the-budget-resolution_y class_democrat) 219 82.0%\n",
            "3 (aid-to-nicaraguan-contras_y class_democrat) 218 81.6%\n",
            "4 (education-spending_n class_democrat) 213 79.8%\n",
            "5 (aid-to-nicaraguan-contras_y physician-fee-freeze_n class_democrat) 210 78.7%\n",
            "6 (aid-to-nicaraguan-contras_y adoption-of-the-budget-resolution_y class_democrat) 203 76.0%\n",
            "7 (education-spending_n physician-fee-freeze_n class_democrat) 201 75.3%\n",
            "8 (el-salvador-aid_n class_democrat) 200 74.9%\n",
            "9 (anti-satellite-test-ban_y class_democrat) 200 74.9%\n"
          ]
        }
      ],
      "source": [
        "print_frequent(freqs, must_contain=[\"class_democrat\"], wrt=np.sum( bin_dataset[\"class_democrat\"] ))"
      ]
    },
    {
      "cell_type": "code",
      "execution_count": 16,
      "metadata": {
        "colab": {
          "base_uri": "https://localhost:8080/"
        },
        "id": "UEYT6VDZ7KAg",
        "outputId": "1f4d1b1f-f6d6-4726-db64-e75fa336c3f0"
      },
      "outputs": [
        {
          "output_type": "stream",
          "name": "stdout",
          "text": [
            "0 (class_republican physician-fee-freeze_y) 163 97.0%\n",
            "1 (class_republican crime_y) 158 94.0%\n",
            "2 (class_republican el-salvador-aid_y) 157 93.5%\n",
            "3 (class_republican el-salvador-aid_y physician-fee-freeze_y) 156 92.9%\n",
            "4 (class_republican crime_y physician-fee-freeze_y) 155 92.3%\n",
            "5 (class_republican religious-groups-in-schools_y) 149 88.7%\n",
            "6 (class_republican el-salvador-aid_y crime_y) 149 88.7%\n",
            "7 (class_republican el-salvador-aid_y crime_y physician-fee-freeze_y) 148 88.1%\n",
            "8 (class_republican religious-groups-in-schools_y physician-fee-freeze_y) 147 87.5%\n",
            "9 (class_republican mx-missile_n) 146 86.9%\n"
          ]
        }
      ],
      "source": [
        "print_frequent(freqs, must_contain=[\"class_republican\"], wrt=np.sum( bin_dataset[\"class_republican\"] ) )"
      ]
    },
    {
      "cell_type": "markdown",
      "metadata": {
        "id": "b6TItNUs7ZJ5"
      },
      "source": [
        "One interesting observation is that most of republicans voted \"yes\" in \"physician-fee-freeze\" question while the opposite holds for democrats (itemset #0). From all shown itemsets, it is apparent that majorities of both parties are consistent with each other on the most of the questions."
      ]
    },
    {
      "cell_type": "markdown",
      "metadata": {
        "id": "CjAlKRQc8yta"
      },
      "source": [
        "Next, we can, for instance, have a look about their opinion on crime:"
      ]
    },
    {
      "cell_type": "code",
      "execution_count": 17,
      "metadata": {
        "colab": {
          "base_uri": "https://localhost:8080/"
        },
        "id": "L7aOjl5I702X",
        "outputId": "46341b41-cfcc-417f-f8fe-06f4570c4c9f"
      },
      "outputs": [
        {
          "output_type": "stream",
          "name": "stdout",
          "text": [
            "0 (crime_n class_democrat) 167 62.5%\n",
            "1 (crime_n physician-fee-freeze_n class_democrat) 163 61.0%\n",
            "2 (crime_n aid-to-nicaraguan-contras_y class_democrat) 159 59.6%\n",
            "3 (crime_n adoption-of-the-budget-resolution_y class_democrat) 158 59.2%\n",
            "4 (crime_n adoption-of-the-budget-resolution_y physician-fee-freeze_n class_democrat) 156 58.4%\n",
            "5 (crime_n aid-to-nicaraguan-contras_y physician-fee-freeze_n class_democrat) 156 58.4%\n",
            "6 (crime_n el-salvador-aid_n class_democrat) 152 56.9%\n",
            "7 (crime_n adoption-of-the-budget-resolution_y aid-to-nicaraguan-contras_y class_democrat) 152 56.9%\n",
            "8 (crime_n education-spending_n class_democrat) 150 56.2%\n",
            "9 (crime_n adoption-of-the-budget-resolution_y aid-to-nicaraguan-contras_y physician-fee-freeze_n class_democrat) 150 56.2%\n"
          ]
        }
      ],
      "source": [
        "print_frequent(freqs, must_contain=[\"class_democrat\", [\"crime_y\", \"crime_n\", \"crime_?\"]], wrt=np.sum( bin_dataset[\"class_democrat\"] ))"
      ]
    },
    {
      "cell_type": "code",
      "execution_count": 18,
      "metadata": {
        "colab": {
          "base_uri": "https://localhost:8080/"
        },
        "id": "LV-6I8g28sCW",
        "outputId": "23d7e992-3b16-4615-d225-0ab86370956b"
      },
      "outputs": [
        {
          "output_type": "stream",
          "name": "stdout",
          "text": [
            "0 (class_republican crime_y) 158 94.0%\n",
            "1 (class_republican crime_y physician-fee-freeze_y) 155 92.3%\n",
            "2 (class_republican el-salvador-aid_y crime_y) 149 88.7%\n",
            "3 (class_republican el-salvador-aid_y crime_y physician-fee-freeze_y) 148 88.1%\n",
            "4 (class_republican religious-groups-in-schools_y crime_y) 140 83.3%\n",
            "5 (class_republican religious-groups-in-schools_y crime_y physician-fee-freeze_y) 139 82.7%\n",
            "6 (class_republican mx-missile_n crime_y) 138 82.1%\n",
            "7 (class_republican mx-missile_n crime_y physician-fee-freeze_y) 137 81.5%\n",
            "8 (class_republican mx-missile_n crime_y el-salvador-aid_y) 137 81.5%\n",
            "9 (class_republican religious-groups-in-schools_y crime_y el-salvador-aid_y) 137 81.5%\n"
          ]
        }
      ],
      "source": [
        "print_frequent(freqs, must_contain=[\"class_republican\", [\"crime_y\", \"crime_n\", \"crime_?\"]], wrt=np.sum( bin_dataset[\"class_republican\"] ))"
      ]
    },
    {
      "cell_type": "markdown",
      "metadata": {
        "id": "0Q6-Yy7j9Ujl"
      },
      "source": [
        "We can clearly see that majority of republicans voted \"yes\" for \"crime\" question while opposite holds for democrats (itemsets #0 in each printout). It is also apparent that the democrats were not so unitied on this one."
      ]
    },
    {
      "cell_type": "markdown",
      "metadata": {
        "id": "xuZNOKEy9pQP"
      },
      "source": [
        "Finally, let us use only closed frequent itemsets of size at least 2 and look at the situation of \"el-salvador-aid\"."
      ]
    },
    {
      "cell_type": "code",
      "execution_count": 19,
      "metadata": {
        "colab": {
          "base_uri": "https://localhost:8080/"
        },
        "id": "gCJXtXpn9upO",
        "outputId": "ecf18c91-688d-4169-929e-9d4be2da056b"
      },
      "outputs": [
        {
          "output_type": "stream",
          "name": "stdout",
          "text": [
            "# frequent itemsets:  45950\n",
            "0 (el-salvador-aid_n class_democrat) 200 74.9%\n",
            "1 (el-salvador-aid_n class_democrat aid-to-nicaraguan-contras_y) 197 73.8%\n",
            "2 (el-salvador-aid_n physician-fee-freeze_n class_democrat) 194 72.7%\n",
            "3 (el-salvador-aid_n physician-fee-freeze_n aid-to-nicaraguan-contras_y class_democrat) 191 71.5%\n",
            "4 (el-salvador-aid_n adoption-of-the-budget-resolution_y class_democrat) 184 68.9%\n",
            "5 (el-salvador-aid_n adoption-of-the-budget-resolution_y class_democrat aid-to-nicaraguan-contras_y) 182 68.2%\n",
            "6 (el-salvador-aid_n anti-satellite-test-ban_y class_democrat) 182 68.2%\n",
            "7 (el-salvador-aid_n adoption-of-the-budget-resolution_y physician-fee-freeze_n class_democrat) 181 67.8%\n",
            "8 (el-salvador-aid_n adoption-of-the-budget-resolution_y physician-fee-freeze_n aid-to-nicaraguan-contras_y class_democrat) 179 67.0%\n",
            "9 (el-salvador-aid_n anti-satellite-test-ban_y class_democrat aid-to-nicaraguan-contras_y) 179 67.0%\n"
          ]
        }
      ],
      "source": [
        "freqs = fim(tracts, target='c', supp=10, zmin=2)\n",
        "print(\"# frequent itemsets: \", len(freqs))\n",
        "print_frequent(freqs, must_contain=[\"class_democrat\", [\"el-salvador-aid_y\", \"el-salvador-aid_n\", \"el-salvador-aid_?\"]], wrt=np.sum( bin_dataset[\"class_democrat\"] ))"
      ]
    },
    {
      "cell_type": "code",
      "execution_count": 20,
      "metadata": {
        "colab": {
          "base_uri": "https://localhost:8080/"
        },
        "id": "BPeJQAPb-dOJ",
        "outputId": "0aac2c70-9a89-444c-d027-c7f1b78e0b50"
      },
      "outputs": [
        {
          "output_type": "stream",
          "name": "stdout",
          "text": [
            "0 (class_republican el-salvador-aid_y) 157 93.5%\n",
            "1 (class_republican el-salvador-aid_y physician-fee-freeze_y) 156 92.9%\n",
            "2 (class_republican el-salvador-aid_y crime_y) 149 88.7%\n",
            "3 (class_republican el-salvador-aid_y crime_y physician-fee-freeze_y) 148 88.1%\n",
            "4 (class_republican mx-missile_n el-salvador-aid_y) 145 86.3%\n",
            "5 (class_republican religious-groups-in-schools_y el-salvador-aid_y) 145 86.3%\n",
            "6 (class_republican mx-missile_n physician-fee-freeze_y el-salvador-aid_y) 144 85.7%\n",
            "7 (class_republican religious-groups-in-schools_y el-salvador-aid_y physician-fee-freeze_y) 144 85.7%\n",
            "8 (class_republican adoption-of-the-budget-resolution_n el-salvador-aid_y) 138 82.1%\n",
            "9 (class_republican adoption-of-the-budget-resolution_n el-salvador-aid_y physician-fee-freeze_y) 137 81.5%\n"
          ]
        }
      ],
      "source": [
        "print_frequent(freqs, must_contain=[\"class_republican\", [\"el-salvador-aid_y\", \"el-salvador-aid_n\", \"el-salvador-aid_?\"]], wrt=np.sum( bin_dataset[\"class_republican\"] ))"
      ]
    },
    {
      "cell_type": "markdown",
      "metadata": {
        "id": "8f8Z6Me0-k5p"
      },
      "source": [
        "We see exactly opposite opinions of republicans and democrats on this matter as well."
      ]
    },
    {
      "cell_type": "markdown",
      "metadata": {
        "id": "hXBjfQhVb2bP"
      },
      "source": [
        "## Association rules inference"
      ]
    },
    {
      "cell_type": "markdown",
      "metadata": {
        "id": "TEAhHx3fb6wO"
      },
      "source": [
        "Frequent itemsets contain a lot of interesting information. Moreover, we can build a set of association rules with desired level of confidence that they'll hold based on obtained frequent itemsets."
      ]
    },
    {
      "cell_type": "markdown",
      "metadata": {
        "id": "sxAJpL17cTld"
      },
      "source": [
        "Let's mine frequent itemsets again. We set the relative support threshold to be 15% (just a guess for the starting point)."
      ]
    },
    {
      "cell_type": "code",
      "execution_count": 21,
      "metadata": {
        "colab": {
          "base_uri": "https://localhost:8080/"
        },
        "id": "tWuURiT2cq_S",
        "outputId": "916744d3-99fb-48ea-cb54-3b1d6f73ed31"
      },
      "outputs": [
        {
          "output_type": "stream",
          "name": "stdout",
          "text": [
            "# frequent itemsets:  31080\n",
            "0 (religious-groups-in-schools_y) 272 62.5%\n",
            "1 (export-administration-act-south-africa_y) 269 61.8%\n",
            "2 (class_democrat) 267 61.4%\n",
            "3 (synfuels-corporation-cutback_n) 264 60.7%\n",
            "4 (adoption-of-the-budget-resolution_y) 253 58.2%\n",
            "5 (crime_y) 248 57.0%\n",
            "6 (physician-fee-freeze_n) 247 56.8%\n",
            "7 (physician-fee-freeze_n class_democrat) 245 56.3%\n",
            "8 (aid-to-nicaraguan-contras_y) 242 55.6%\n",
            "9 (anti-satellite-test-ban_y) 239 54.9%\n"
          ]
        }
      ],
      "source": [
        "freqs = fim(tracts, target='s', supp=15, zmin=1)\n",
        "print(\"# frequent itemsets: \", len(freqs))\n",
        "print_frequent(freqs)"
      ]
    },
    {
      "cell_type": "markdown",
      "metadata": {
        "id": "43H6yGdkc-73"
      },
      "source": [
        "Since for determining the confidence of association rule we will need to access number of supports of given itemset fast, we convert the result of our algorithm into dictionary mapping itemsets to the respective number of supports. For convenient searching, we sort the keys in the ascending order."
      ]
    },
    {
      "cell_type": "code",
      "execution_count": 22,
      "metadata": {
        "id": "ds4gAyQldacj"
      },
      "outputs": [],
      "source": [
        "freq_map = {}\n",
        "for a, b in freqs:\n",
        "    freq_map[ tuple( sorted(a) ) ] = b"
      ]
    },
    {
      "cell_type": "markdown",
      "metadata": {
        "id": "MH0bzRHOdu_k"
      },
      "source": [
        "Now, we define a functions that determine the confidence of given association rule and infere association rules from the set of frequent itemsets respectively."
      ]
    },
    {
      "cell_type": "code",
      "execution_count": 23,
      "metadata": {
        "id": "JHzKgMRidz9Y"
      },
      "outputs": [],
      "source": [
        "def conf(freq_map, x, y):\n",
        "    \"\"\"\n",
        "    return confidence of rules <x> -> <y>\n",
        "    based on support counts in <freq_map>\n",
        "    \"\"\"\n",
        "    xy = tuple( set(x) | set(y) )\n",
        "\n",
        "    return freq_map[ tuple( sorted(xy) ) ] / freq_map[ tuple( sorted(x) ) ]"
      ]
    },
    {
      "cell_type": "markdown",
      "metadata": {
        "id": "5yF-3_jfvvNS"
      },
      "source": [
        "The following function for association rules inference works as following:\n",
        "We iterate over frequent itemsets. For each frequent itemset, we generate all it's subsets (we ignore empty set). Based on that subset (since it must be frequent as well), we split the itemset into antecedent and consequent and evaluate whether the confidence of such rule is above given threshold."
      ]
    },
    {
      "cell_type": "code",
      "execution_count": 24,
      "metadata": {
        "id": "1kJRyO9Ye6pP"
      },
      "outputs": [],
      "source": [
        "from itertools import combinations\n",
        "\n",
        "def association_rules(freq_map, thr):\n",
        "    rules = []\n",
        "    for itemset, _ in freq_map.items():\n",
        "        for i in range(1, len(itemset)):\n",
        "            for antecedent in combinations(itemset, i):\n",
        "                consequent = tuple( set(itemset) - set(antecedent) )\n",
        "\n",
        "                if len(consequent) == 0:\n",
        "                    continue\n",
        "\n",
        "                c = conf(freq_map, antecedent, consequent)\n",
        "                if c >= thr:\n",
        "                    rules.append( ( [antecedent, consequent], c ) )\n",
        "\n",
        "    return rules"
      ]
    },
    {
      "cell_type": "code",
      "execution_count": 25,
      "metadata": {
        "id": "1VSxo9VZF4kt"
      },
      "outputs": [],
      "source": [
        "def print_rules(rules):\n",
        "    for i, (rule, c) in enumerate( sorted(rules, key=lambda x: -x[1])[:10] ):\n",
        "        a = \"(\" + \" \".join([bin_dataset.columns[x] for x in rule[0]]) + \")\"\n",
        "        b = \"(\" + \" \".join([bin_dataset.columns[x] for x in rule[1]]) + \")\"\n",
        "        print( f\"{i}) {a} -> {b} (conf={c:.2f})\" )"
      ]
    },
    {
      "cell_type": "markdown",
      "metadata": {
        "id": "9wCEv3cues8o"
      },
      "source": [
        "Finally, let us infere some rules with high confidence. We set the confidence threshold to be 80% (80% seems to be quite strong confidence, and we would like to get rules with high confidence that they really hold)."
      ]
    },
    {
      "cell_type": "code",
      "execution_count": 26,
      "metadata": {
        "colab": {
          "base_uri": "https://localhost:8080/"
        },
        "id": "O_vjYTXUf2e0",
        "outputId": "e98e6641-b5c6-4b5d-ad94-c3c883e55a35"
      },
      "outputs": [
        {
          "output_type": "stream",
          "name": "stdout",
          "text": [
            "1537436\n"
          ]
        }
      ],
      "source": [
        "rules = association_rules(freq_map, 0.8)\n",
        "print(len(rules))"
      ]
    },
    {
      "cell_type": "markdown",
      "metadata": {
        "id": "JsjFfcRJjGge"
      },
      "source": [
        "We see that we obtained a lot of rules. Let us have a look at the most confident rules."
      ]
    },
    {
      "cell_type": "code",
      "execution_count": 27,
      "metadata": {
        "colab": {
          "base_uri": "https://localhost:8080/"
        },
        "id": "lNvNmlPgjLZE",
        "outputId": "dadc75cd-6acd-43a6-c4d4-8d34539cc478"
      },
      "outputs": [
        {
          "output_type": "stream",
          "name": "stdout",
          "text": [
            "0) (physician-fee-freeze_n aid-to-nicaraguan-contras_y export-administration-act-south-africa_?) -> (class_democrat) (conf=1.00)\n",
            "1) (adoption-of-the-budget-resolution_y physician-fee-freeze_n export-administration-act-south-africa_?) -> (class_democrat) (conf=1.00)\n",
            "2) (physician-fee-freeze_n export-administration-act-south-africa_?) -> (class_democrat) (conf=1.00)\n",
            "3) (physician-fee-freeze_n synfuels-corporation-cutback_y crime_n) -> (class_democrat) (conf=1.00)\n",
            "4) (physician-fee-freeze_n mx-missile_y synfuels-corporation-cutback_y) -> (class_democrat) (conf=1.00)\n",
            "5) (physician-fee-freeze_n synfuels-corporation-cutback_y duty-free-exports_y) -> (class_democrat) (conf=1.00)\n",
            "6) (physician-fee-freeze_n aid-to-nicaraguan-contras_y synfuels-corporation-cutback_y superfund-right-to-sue_n) -> (class_democrat) (conf=1.00)\n",
            "7) (physician-fee-freeze_n synfuels-corporation-cutback_y superfund-right-to-sue_n) -> (class_democrat) (conf=1.00)\n",
            "8) (physician-fee-freeze_n el-salvador-aid_n anti-satellite-test-ban_y synfuels-corporation-cutback_y) -> (class_democrat) (conf=1.00)\n",
            "9) (physician-fee-freeze_n el-salvador-aid_n synfuels-corporation-cutback_y education-spending_n) -> (class_democrat) (conf=1.00)\n"
          ]
        }
      ],
      "source": [
        "print_rules(rules)"
      ]
    },
    {
      "cell_type": "markdown",
      "metadata": {
        "id": "7jXPT6kFkMUw"
      },
      "source": [
        "The association rule X -> Y basically tells us that there is high probability (this probability is approximated by the confidence of given rule) that if a transaction contains X, it will also contain Y."
      ]
    },
    {
      "cell_type": "markdown",
      "metadata": {
        "id": "1PFngrP_1d_0"
      },
      "source": [
        "Regarding our situation, we observe that the most confident rules are all linked to the democratic political party. That suggests that democrats were united in a lot of questions during the voting. The rule #2, for instance, tells us that (based on our transactions), if someone voted \"no\" in question \"physician-fee-freeze\" and did not explicitly say \"yes\" or \"no\" in question \"export-administration-act-south-africa\", then they are certainly a democrat. Similar interpretation holds for other rules as well."
      ]
    }
  ],
  "metadata": {
    "colab": {
      "collapsed_sections": [
        "Zp5wLLBf30R1",
        "y0Z4W1D2r6ap",
        "ONIxGDQdz33_"
      ],
      "provenance": []
    },
    "kernelspec": {
      "display_name": "Python 3",
      "name": "python3"
    },
    "language_info": {
      "name": "python"
    }
  },
  "nbformat": 4,
  "nbformat_minor": 0
}